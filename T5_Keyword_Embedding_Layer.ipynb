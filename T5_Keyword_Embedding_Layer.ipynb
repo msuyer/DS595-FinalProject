{
  "nbformat": 4,
  "nbformat_minor": 0,
  "metadata": {
    "colab": {
      "provenance": [],
      "machine_shape": "hm",
      "gpuType": "L4"
    },
    "kernelspec": {
      "name": "python3",
      "display_name": "Python 3"
    },
    "language_info": {
      "name": "python"
    },
    "accelerator": "GPU",
    "widgets": {
      "application/vnd.jupyter.widget-state+json": {
        "c6499f94a06b48e689a097556b619819": {
          "model_module": "@jupyter-widgets/controls",
          "model_name": "HBoxModel",
          "model_module_version": "1.5.0",
          "state": {
            "_dom_classes": [],
            "_model_module": "@jupyter-widgets/controls",
            "_model_module_version": "1.5.0",
            "_model_name": "HBoxModel",
            "_view_count": null,
            "_view_module": "@jupyter-widgets/controls",
            "_view_module_version": "1.5.0",
            "_view_name": "HBoxView",
            "box_style": "",
            "children": [
              "IPY_MODEL_835e22ffe69948b7932ccb2cdd0e67aa",
              "IPY_MODEL_0b2890db8bac412fb716b06566594e07",
              "IPY_MODEL_9862a4c7ca3a4e0db5540e5236e50644"
            ],
            "layout": "IPY_MODEL_ce84d430ff3f4972a45a1f36dcb76804"
          }
        },
        "835e22ffe69948b7932ccb2cdd0e67aa": {
          "model_module": "@jupyter-widgets/controls",
          "model_name": "HTMLModel",
          "model_module_version": "1.5.0",
          "state": {
            "_dom_classes": [],
            "_model_module": "@jupyter-widgets/controls",
            "_model_module_version": "1.5.0",
            "_model_name": "HTMLModel",
            "_view_count": null,
            "_view_module": "@jupyter-widgets/controls",
            "_view_module_version": "1.5.0",
            "_view_name": "HTMLView",
            "description": "",
            "description_tooltip": null,
            "layout": "IPY_MODEL_4c6a14be23744348aad2d2a779b9bae7",
            "placeholder": "​",
            "style": "IPY_MODEL_b1a56260691d470ca1d9167d798c0d3e",
            "value": "tokenizer_config.json: 100%"
          }
        },
        "0b2890db8bac412fb716b06566594e07": {
          "model_module": "@jupyter-widgets/controls",
          "model_name": "FloatProgressModel",
          "model_module_version": "1.5.0",
          "state": {
            "_dom_classes": [],
            "_model_module": "@jupyter-widgets/controls",
            "_model_module_version": "1.5.0",
            "_model_name": "FloatProgressModel",
            "_view_count": null,
            "_view_module": "@jupyter-widgets/controls",
            "_view_module_version": "1.5.0",
            "_view_name": "ProgressView",
            "bar_style": "success",
            "description": "",
            "description_tooltip": null,
            "layout": "IPY_MODEL_3a4b5a2e28794d0ebc949b62b93b562f",
            "max": 2324,
            "min": 0,
            "orientation": "horizontal",
            "style": "IPY_MODEL_2f24c4e40de643798abde81a8e5919f0",
            "value": 2324
          }
        },
        "9862a4c7ca3a4e0db5540e5236e50644": {
          "model_module": "@jupyter-widgets/controls",
          "model_name": "HTMLModel",
          "model_module_version": "1.5.0",
          "state": {
            "_dom_classes": [],
            "_model_module": "@jupyter-widgets/controls",
            "_model_module_version": "1.5.0",
            "_model_name": "HTMLModel",
            "_view_count": null,
            "_view_module": "@jupyter-widgets/controls",
            "_view_module_version": "1.5.0",
            "_view_name": "HTMLView",
            "description": "",
            "description_tooltip": null,
            "layout": "IPY_MODEL_b19b8f828b5a485da7f6a89be444aaa4",
            "placeholder": "​",
            "style": "IPY_MODEL_34f70403e5974c21bfe3251916a70acb",
            "value": " 2.32k/2.32k [00:00&lt;00:00, 195kB/s]"
          }
        },
        "ce84d430ff3f4972a45a1f36dcb76804": {
          "model_module": "@jupyter-widgets/base",
          "model_name": "LayoutModel",
          "model_module_version": "1.2.0",
          "state": {
            "_model_module": "@jupyter-widgets/base",
            "_model_module_version": "1.2.0",
            "_model_name": "LayoutModel",
            "_view_count": null,
            "_view_module": "@jupyter-widgets/base",
            "_view_module_version": "1.2.0",
            "_view_name": "LayoutView",
            "align_content": null,
            "align_items": null,
            "align_self": null,
            "border": null,
            "bottom": null,
            "display": null,
            "flex": null,
            "flex_flow": null,
            "grid_area": null,
            "grid_auto_columns": null,
            "grid_auto_flow": null,
            "grid_auto_rows": null,
            "grid_column": null,
            "grid_gap": null,
            "grid_row": null,
            "grid_template_areas": null,
            "grid_template_columns": null,
            "grid_template_rows": null,
            "height": null,
            "justify_content": null,
            "justify_items": null,
            "left": null,
            "margin": null,
            "max_height": null,
            "max_width": null,
            "min_height": null,
            "min_width": null,
            "object_fit": null,
            "object_position": null,
            "order": null,
            "overflow": null,
            "overflow_x": null,
            "overflow_y": null,
            "padding": null,
            "right": null,
            "top": null,
            "visibility": null,
            "width": null
          }
        },
        "4c6a14be23744348aad2d2a779b9bae7": {
          "model_module": "@jupyter-widgets/base",
          "model_name": "LayoutModel",
          "model_module_version": "1.2.0",
          "state": {
            "_model_module": "@jupyter-widgets/base",
            "_model_module_version": "1.2.0",
            "_model_name": "LayoutModel",
            "_view_count": null,
            "_view_module": "@jupyter-widgets/base",
            "_view_module_version": "1.2.0",
            "_view_name": "LayoutView",
            "align_content": null,
            "align_items": null,
            "align_self": null,
            "border": null,
            "bottom": null,
            "display": null,
            "flex": null,
            "flex_flow": null,
            "grid_area": null,
            "grid_auto_columns": null,
            "grid_auto_flow": null,
            "grid_auto_rows": null,
            "grid_column": null,
            "grid_gap": null,
            "grid_row": null,
            "grid_template_areas": null,
            "grid_template_columns": null,
            "grid_template_rows": null,
            "height": null,
            "justify_content": null,
            "justify_items": null,
            "left": null,
            "margin": null,
            "max_height": null,
            "max_width": null,
            "min_height": null,
            "min_width": null,
            "object_fit": null,
            "object_position": null,
            "order": null,
            "overflow": null,
            "overflow_x": null,
            "overflow_y": null,
            "padding": null,
            "right": null,
            "top": null,
            "visibility": null,
            "width": null
          }
        },
        "b1a56260691d470ca1d9167d798c0d3e": {
          "model_module": "@jupyter-widgets/controls",
          "model_name": "DescriptionStyleModel",
          "model_module_version": "1.5.0",
          "state": {
            "_model_module": "@jupyter-widgets/controls",
            "_model_module_version": "1.5.0",
            "_model_name": "DescriptionStyleModel",
            "_view_count": null,
            "_view_module": "@jupyter-widgets/base",
            "_view_module_version": "1.2.0",
            "_view_name": "StyleView",
            "description_width": ""
          }
        },
        "3a4b5a2e28794d0ebc949b62b93b562f": {
          "model_module": "@jupyter-widgets/base",
          "model_name": "LayoutModel",
          "model_module_version": "1.2.0",
          "state": {
            "_model_module": "@jupyter-widgets/base",
            "_model_module_version": "1.2.0",
            "_model_name": "LayoutModel",
            "_view_count": null,
            "_view_module": "@jupyter-widgets/base",
            "_view_module_version": "1.2.0",
            "_view_name": "LayoutView",
            "align_content": null,
            "align_items": null,
            "align_self": null,
            "border": null,
            "bottom": null,
            "display": null,
            "flex": null,
            "flex_flow": null,
            "grid_area": null,
            "grid_auto_columns": null,
            "grid_auto_flow": null,
            "grid_auto_rows": null,
            "grid_column": null,
            "grid_gap": null,
            "grid_row": null,
            "grid_template_areas": null,
            "grid_template_columns": null,
            "grid_template_rows": null,
            "height": null,
            "justify_content": null,
            "justify_items": null,
            "left": null,
            "margin": null,
            "max_height": null,
            "max_width": null,
            "min_height": null,
            "min_width": null,
            "object_fit": null,
            "object_position": null,
            "order": null,
            "overflow": null,
            "overflow_x": null,
            "overflow_y": null,
            "padding": null,
            "right": null,
            "top": null,
            "visibility": null,
            "width": null
          }
        },
        "2f24c4e40de643798abde81a8e5919f0": {
          "model_module": "@jupyter-widgets/controls",
          "model_name": "ProgressStyleModel",
          "model_module_version": "1.5.0",
          "state": {
            "_model_module": "@jupyter-widgets/controls",
            "_model_module_version": "1.5.0",
            "_model_name": "ProgressStyleModel",
            "_view_count": null,
            "_view_module": "@jupyter-widgets/base",
            "_view_module_version": "1.2.0",
            "_view_name": "StyleView",
            "bar_color": null,
            "description_width": ""
          }
        },
        "b19b8f828b5a485da7f6a89be444aaa4": {
          "model_module": "@jupyter-widgets/base",
          "model_name": "LayoutModel",
          "model_module_version": "1.2.0",
          "state": {
            "_model_module": "@jupyter-widgets/base",
            "_model_module_version": "1.2.0",
            "_model_name": "LayoutModel",
            "_view_count": null,
            "_view_module": "@jupyter-widgets/base",
            "_view_module_version": "1.2.0",
            "_view_name": "LayoutView",
            "align_content": null,
            "align_items": null,
            "align_self": null,
            "border": null,
            "bottom": null,
            "display": null,
            "flex": null,
            "flex_flow": null,
            "grid_area": null,
            "grid_auto_columns": null,
            "grid_auto_flow": null,
            "grid_auto_rows": null,
            "grid_column": null,
            "grid_gap": null,
            "grid_row": null,
            "grid_template_areas": null,
            "grid_template_columns": null,
            "grid_template_rows": null,
            "height": null,
            "justify_content": null,
            "justify_items": null,
            "left": null,
            "margin": null,
            "max_height": null,
            "max_width": null,
            "min_height": null,
            "min_width": null,
            "object_fit": null,
            "object_position": null,
            "order": null,
            "overflow": null,
            "overflow_x": null,
            "overflow_y": null,
            "padding": null,
            "right": null,
            "top": null,
            "visibility": null,
            "width": null
          }
        },
        "34f70403e5974c21bfe3251916a70acb": {
          "model_module": "@jupyter-widgets/controls",
          "model_name": "DescriptionStyleModel",
          "model_module_version": "1.5.0",
          "state": {
            "_model_module": "@jupyter-widgets/controls",
            "_model_module_version": "1.5.0",
            "_model_name": "DescriptionStyleModel",
            "_view_count": null,
            "_view_module": "@jupyter-widgets/base",
            "_view_module_version": "1.2.0",
            "_view_name": "StyleView",
            "description_width": ""
          }
        },
        "84bc564a6dd942f7a9d8319c376574dc": {
          "model_module": "@jupyter-widgets/controls",
          "model_name": "HBoxModel",
          "model_module_version": "1.5.0",
          "state": {
            "_dom_classes": [],
            "_model_module": "@jupyter-widgets/controls",
            "_model_module_version": "1.5.0",
            "_model_name": "HBoxModel",
            "_view_count": null,
            "_view_module": "@jupyter-widgets/controls",
            "_view_module_version": "1.5.0",
            "_view_name": "HBoxView",
            "box_style": "",
            "children": [
              "IPY_MODEL_ed8ae68d983743448af728a310f37cd5",
              "IPY_MODEL_fab194fddad94f03bdf122d12aabaec5",
              "IPY_MODEL_0443d44fb27f40adbc5104adcbb1cd48"
            ],
            "layout": "IPY_MODEL_5bd7303e700c4c318e4c8d3d30b1bde1"
          }
        },
        "ed8ae68d983743448af728a310f37cd5": {
          "model_module": "@jupyter-widgets/controls",
          "model_name": "HTMLModel",
          "model_module_version": "1.5.0",
          "state": {
            "_dom_classes": [],
            "_model_module": "@jupyter-widgets/controls",
            "_model_module_version": "1.5.0",
            "_model_name": "HTMLModel",
            "_view_count": null,
            "_view_module": "@jupyter-widgets/controls",
            "_view_module_version": "1.5.0",
            "_view_name": "HTMLView",
            "description": "",
            "description_tooltip": null,
            "layout": "IPY_MODEL_54262b68215b49469e8ee95c6b27d671",
            "placeholder": "​",
            "style": "IPY_MODEL_e6aa0170f8bc4b678ef7ecbce4f87273",
            "value": "spiece.model: 100%"
          }
        },
        "fab194fddad94f03bdf122d12aabaec5": {
          "model_module": "@jupyter-widgets/controls",
          "model_name": "FloatProgressModel",
          "model_module_version": "1.5.0",
          "state": {
            "_dom_classes": [],
            "_model_module": "@jupyter-widgets/controls",
            "_model_module_version": "1.5.0",
            "_model_name": "FloatProgressModel",
            "_view_count": null,
            "_view_module": "@jupyter-widgets/controls",
            "_view_module_version": "1.5.0",
            "_view_name": "ProgressView",
            "bar_style": "success",
            "description": "",
            "description_tooltip": null,
            "layout": "IPY_MODEL_e3cd4a9196b844009c262f5ccaf8e222",
            "max": 791656,
            "min": 0,
            "orientation": "horizontal",
            "style": "IPY_MODEL_c26bffaf0f4f409183e4ffc4b0fac091",
            "value": 791656
          }
        },
        "0443d44fb27f40adbc5104adcbb1cd48": {
          "model_module": "@jupyter-widgets/controls",
          "model_name": "HTMLModel",
          "model_module_version": "1.5.0",
          "state": {
            "_dom_classes": [],
            "_model_module": "@jupyter-widgets/controls",
            "_model_module_version": "1.5.0",
            "_model_name": "HTMLModel",
            "_view_count": null,
            "_view_module": "@jupyter-widgets/controls",
            "_view_module_version": "1.5.0",
            "_view_name": "HTMLView",
            "description": "",
            "description_tooltip": null,
            "layout": "IPY_MODEL_7f6fa9ca849e47bb8e81ecb3ead5ff5c",
            "placeholder": "​",
            "style": "IPY_MODEL_5972cb7d2d5e48c183d1d81e2d23afc7",
            "value": " 792k/792k [00:00&lt;00:00, 6.02MB/s]"
          }
        },
        "5bd7303e700c4c318e4c8d3d30b1bde1": {
          "model_module": "@jupyter-widgets/base",
          "model_name": "LayoutModel",
          "model_module_version": "1.2.0",
          "state": {
            "_model_module": "@jupyter-widgets/base",
            "_model_module_version": "1.2.0",
            "_model_name": "LayoutModel",
            "_view_count": null,
            "_view_module": "@jupyter-widgets/base",
            "_view_module_version": "1.2.0",
            "_view_name": "LayoutView",
            "align_content": null,
            "align_items": null,
            "align_self": null,
            "border": null,
            "bottom": null,
            "display": null,
            "flex": null,
            "flex_flow": null,
            "grid_area": null,
            "grid_auto_columns": null,
            "grid_auto_flow": null,
            "grid_auto_rows": null,
            "grid_column": null,
            "grid_gap": null,
            "grid_row": null,
            "grid_template_areas": null,
            "grid_template_columns": null,
            "grid_template_rows": null,
            "height": null,
            "justify_content": null,
            "justify_items": null,
            "left": null,
            "margin": null,
            "max_height": null,
            "max_width": null,
            "min_height": null,
            "min_width": null,
            "object_fit": null,
            "object_position": null,
            "order": null,
            "overflow": null,
            "overflow_x": null,
            "overflow_y": null,
            "padding": null,
            "right": null,
            "top": null,
            "visibility": null,
            "width": null
          }
        },
        "54262b68215b49469e8ee95c6b27d671": {
          "model_module": "@jupyter-widgets/base",
          "model_name": "LayoutModel",
          "model_module_version": "1.2.0",
          "state": {
            "_model_module": "@jupyter-widgets/base",
            "_model_module_version": "1.2.0",
            "_model_name": "LayoutModel",
            "_view_count": null,
            "_view_module": "@jupyter-widgets/base",
            "_view_module_version": "1.2.0",
            "_view_name": "LayoutView",
            "align_content": null,
            "align_items": null,
            "align_self": null,
            "border": null,
            "bottom": null,
            "display": null,
            "flex": null,
            "flex_flow": null,
            "grid_area": null,
            "grid_auto_columns": null,
            "grid_auto_flow": null,
            "grid_auto_rows": null,
            "grid_column": null,
            "grid_gap": null,
            "grid_row": null,
            "grid_template_areas": null,
            "grid_template_columns": null,
            "grid_template_rows": null,
            "height": null,
            "justify_content": null,
            "justify_items": null,
            "left": null,
            "margin": null,
            "max_height": null,
            "max_width": null,
            "min_height": null,
            "min_width": null,
            "object_fit": null,
            "object_position": null,
            "order": null,
            "overflow": null,
            "overflow_x": null,
            "overflow_y": null,
            "padding": null,
            "right": null,
            "top": null,
            "visibility": null,
            "width": null
          }
        },
        "e6aa0170f8bc4b678ef7ecbce4f87273": {
          "model_module": "@jupyter-widgets/controls",
          "model_name": "DescriptionStyleModel",
          "model_module_version": "1.5.0",
          "state": {
            "_model_module": "@jupyter-widgets/controls",
            "_model_module_version": "1.5.0",
            "_model_name": "DescriptionStyleModel",
            "_view_count": null,
            "_view_module": "@jupyter-widgets/base",
            "_view_module_version": "1.2.0",
            "_view_name": "StyleView",
            "description_width": ""
          }
        },
        "e3cd4a9196b844009c262f5ccaf8e222": {
          "model_module": "@jupyter-widgets/base",
          "model_name": "LayoutModel",
          "model_module_version": "1.2.0",
          "state": {
            "_model_module": "@jupyter-widgets/base",
            "_model_module_version": "1.2.0",
            "_model_name": "LayoutModel",
            "_view_count": null,
            "_view_module": "@jupyter-widgets/base",
            "_view_module_version": "1.2.0",
            "_view_name": "LayoutView",
            "align_content": null,
            "align_items": null,
            "align_self": null,
            "border": null,
            "bottom": null,
            "display": null,
            "flex": null,
            "flex_flow": null,
            "grid_area": null,
            "grid_auto_columns": null,
            "grid_auto_flow": null,
            "grid_auto_rows": null,
            "grid_column": null,
            "grid_gap": null,
            "grid_row": null,
            "grid_template_areas": null,
            "grid_template_columns": null,
            "grid_template_rows": null,
            "height": null,
            "justify_content": null,
            "justify_items": null,
            "left": null,
            "margin": null,
            "max_height": null,
            "max_width": null,
            "min_height": null,
            "min_width": null,
            "object_fit": null,
            "object_position": null,
            "order": null,
            "overflow": null,
            "overflow_x": null,
            "overflow_y": null,
            "padding": null,
            "right": null,
            "top": null,
            "visibility": null,
            "width": null
          }
        },
        "c26bffaf0f4f409183e4ffc4b0fac091": {
          "model_module": "@jupyter-widgets/controls",
          "model_name": "ProgressStyleModel",
          "model_module_version": "1.5.0",
          "state": {
            "_model_module": "@jupyter-widgets/controls",
            "_model_module_version": "1.5.0",
            "_model_name": "ProgressStyleModel",
            "_view_count": null,
            "_view_module": "@jupyter-widgets/base",
            "_view_module_version": "1.2.0",
            "_view_name": "StyleView",
            "bar_color": null,
            "description_width": ""
          }
        },
        "7f6fa9ca849e47bb8e81ecb3ead5ff5c": {
          "model_module": "@jupyter-widgets/base",
          "model_name": "LayoutModel",
          "model_module_version": "1.2.0",
          "state": {
            "_model_module": "@jupyter-widgets/base",
            "_model_module_version": "1.2.0",
            "_model_name": "LayoutModel",
            "_view_count": null,
            "_view_module": "@jupyter-widgets/base",
            "_view_module_version": "1.2.0",
            "_view_name": "LayoutView",
            "align_content": null,
            "align_items": null,
            "align_self": null,
            "border": null,
            "bottom": null,
            "display": null,
            "flex": null,
            "flex_flow": null,
            "grid_area": null,
            "grid_auto_columns": null,
            "grid_auto_flow": null,
            "grid_auto_rows": null,
            "grid_column": null,
            "grid_gap": null,
            "grid_row": null,
            "grid_template_areas": null,
            "grid_template_columns": null,
            "grid_template_rows": null,
            "height": null,
            "justify_content": null,
            "justify_items": null,
            "left": null,
            "margin": null,
            "max_height": null,
            "max_width": null,
            "min_height": null,
            "min_width": null,
            "object_fit": null,
            "object_position": null,
            "order": null,
            "overflow": null,
            "overflow_x": null,
            "overflow_y": null,
            "padding": null,
            "right": null,
            "top": null,
            "visibility": null,
            "width": null
          }
        },
        "5972cb7d2d5e48c183d1d81e2d23afc7": {
          "model_module": "@jupyter-widgets/controls",
          "model_name": "DescriptionStyleModel",
          "model_module_version": "1.5.0",
          "state": {
            "_model_module": "@jupyter-widgets/controls",
            "_model_module_version": "1.5.0",
            "_model_name": "DescriptionStyleModel",
            "_view_count": null,
            "_view_module": "@jupyter-widgets/base",
            "_view_module_version": "1.2.0",
            "_view_name": "StyleView",
            "description_width": ""
          }
        },
        "b18f221e23aa483e8fb860fd4ecf4bda": {
          "model_module": "@jupyter-widgets/controls",
          "model_name": "HBoxModel",
          "model_module_version": "1.5.0",
          "state": {
            "_dom_classes": [],
            "_model_module": "@jupyter-widgets/controls",
            "_model_module_version": "1.5.0",
            "_model_name": "HBoxModel",
            "_view_count": null,
            "_view_module": "@jupyter-widgets/controls",
            "_view_module_version": "1.5.0",
            "_view_name": "HBoxView",
            "box_style": "",
            "children": [
              "IPY_MODEL_d2a92653f9f747acbb760feb19b24015",
              "IPY_MODEL_fc5b2851d79b47738c60d7cc456d8a14",
              "IPY_MODEL_ba0a3c4d85094b30a665649afe58e37c"
            ],
            "layout": "IPY_MODEL_060391879a954a36851ac2c1a9cb9fb2"
          }
        },
        "d2a92653f9f747acbb760feb19b24015": {
          "model_module": "@jupyter-widgets/controls",
          "model_name": "HTMLModel",
          "model_module_version": "1.5.0",
          "state": {
            "_dom_classes": [],
            "_model_module": "@jupyter-widgets/controls",
            "_model_module_version": "1.5.0",
            "_model_name": "HTMLModel",
            "_view_count": null,
            "_view_module": "@jupyter-widgets/controls",
            "_view_module_version": "1.5.0",
            "_view_name": "HTMLView",
            "description": "",
            "description_tooltip": null,
            "layout": "IPY_MODEL_6a0e721c130f469f9bada1773ce37828",
            "placeholder": "​",
            "style": "IPY_MODEL_37513d1de08046a5a5978a1ea8ff9160",
            "value": "tokenizer.json: 100%"
          }
        },
        "fc5b2851d79b47738c60d7cc456d8a14": {
          "model_module": "@jupyter-widgets/controls",
          "model_name": "FloatProgressModel",
          "model_module_version": "1.5.0",
          "state": {
            "_dom_classes": [],
            "_model_module": "@jupyter-widgets/controls",
            "_model_module_version": "1.5.0",
            "_model_name": "FloatProgressModel",
            "_view_count": null,
            "_view_module": "@jupyter-widgets/controls",
            "_view_module_version": "1.5.0",
            "_view_name": "ProgressView",
            "bar_style": "success",
            "description": "",
            "description_tooltip": null,
            "layout": "IPY_MODEL_e6946bffe39848649a27c672b06eaaad",
            "max": 1389353,
            "min": 0,
            "orientation": "horizontal",
            "style": "IPY_MODEL_7d0c11bde9d541168d0eacef67b3d78a",
            "value": 1389353
          }
        },
        "ba0a3c4d85094b30a665649afe58e37c": {
          "model_module": "@jupyter-widgets/controls",
          "model_name": "HTMLModel",
          "model_module_version": "1.5.0",
          "state": {
            "_dom_classes": [],
            "_model_module": "@jupyter-widgets/controls",
            "_model_module_version": "1.5.0",
            "_model_name": "HTMLModel",
            "_view_count": null,
            "_view_module": "@jupyter-widgets/controls",
            "_view_module_version": "1.5.0",
            "_view_name": "HTMLView",
            "description": "",
            "description_tooltip": null,
            "layout": "IPY_MODEL_0d820b03fc584136b214077c78dc63a3",
            "placeholder": "​",
            "style": "IPY_MODEL_bdaa52115ec34d51a151f40334f24db5",
            "value": " 1.39M/1.39M [00:00&lt;00:00, 5.26MB/s]"
          }
        },
        "060391879a954a36851ac2c1a9cb9fb2": {
          "model_module": "@jupyter-widgets/base",
          "model_name": "LayoutModel",
          "model_module_version": "1.2.0",
          "state": {
            "_model_module": "@jupyter-widgets/base",
            "_model_module_version": "1.2.0",
            "_model_name": "LayoutModel",
            "_view_count": null,
            "_view_module": "@jupyter-widgets/base",
            "_view_module_version": "1.2.0",
            "_view_name": "LayoutView",
            "align_content": null,
            "align_items": null,
            "align_self": null,
            "border": null,
            "bottom": null,
            "display": null,
            "flex": null,
            "flex_flow": null,
            "grid_area": null,
            "grid_auto_columns": null,
            "grid_auto_flow": null,
            "grid_auto_rows": null,
            "grid_column": null,
            "grid_gap": null,
            "grid_row": null,
            "grid_template_areas": null,
            "grid_template_columns": null,
            "grid_template_rows": null,
            "height": null,
            "justify_content": null,
            "justify_items": null,
            "left": null,
            "margin": null,
            "max_height": null,
            "max_width": null,
            "min_height": null,
            "min_width": null,
            "object_fit": null,
            "object_position": null,
            "order": null,
            "overflow": null,
            "overflow_x": null,
            "overflow_y": null,
            "padding": null,
            "right": null,
            "top": null,
            "visibility": null,
            "width": null
          }
        },
        "6a0e721c130f469f9bada1773ce37828": {
          "model_module": "@jupyter-widgets/base",
          "model_name": "LayoutModel",
          "model_module_version": "1.2.0",
          "state": {
            "_model_module": "@jupyter-widgets/base",
            "_model_module_version": "1.2.0",
            "_model_name": "LayoutModel",
            "_view_count": null,
            "_view_module": "@jupyter-widgets/base",
            "_view_module_version": "1.2.0",
            "_view_name": "LayoutView",
            "align_content": null,
            "align_items": null,
            "align_self": null,
            "border": null,
            "bottom": null,
            "display": null,
            "flex": null,
            "flex_flow": null,
            "grid_area": null,
            "grid_auto_columns": null,
            "grid_auto_flow": null,
            "grid_auto_rows": null,
            "grid_column": null,
            "grid_gap": null,
            "grid_row": null,
            "grid_template_areas": null,
            "grid_template_columns": null,
            "grid_template_rows": null,
            "height": null,
            "justify_content": null,
            "justify_items": null,
            "left": null,
            "margin": null,
            "max_height": null,
            "max_width": null,
            "min_height": null,
            "min_width": null,
            "object_fit": null,
            "object_position": null,
            "order": null,
            "overflow": null,
            "overflow_x": null,
            "overflow_y": null,
            "padding": null,
            "right": null,
            "top": null,
            "visibility": null,
            "width": null
          }
        },
        "37513d1de08046a5a5978a1ea8ff9160": {
          "model_module": "@jupyter-widgets/controls",
          "model_name": "DescriptionStyleModel",
          "model_module_version": "1.5.0",
          "state": {
            "_model_module": "@jupyter-widgets/controls",
            "_model_module_version": "1.5.0",
            "_model_name": "DescriptionStyleModel",
            "_view_count": null,
            "_view_module": "@jupyter-widgets/base",
            "_view_module_version": "1.2.0",
            "_view_name": "StyleView",
            "description_width": ""
          }
        },
        "e6946bffe39848649a27c672b06eaaad": {
          "model_module": "@jupyter-widgets/base",
          "model_name": "LayoutModel",
          "model_module_version": "1.2.0",
          "state": {
            "_model_module": "@jupyter-widgets/base",
            "_model_module_version": "1.2.0",
            "_model_name": "LayoutModel",
            "_view_count": null,
            "_view_module": "@jupyter-widgets/base",
            "_view_module_version": "1.2.0",
            "_view_name": "LayoutView",
            "align_content": null,
            "align_items": null,
            "align_self": null,
            "border": null,
            "bottom": null,
            "display": null,
            "flex": null,
            "flex_flow": null,
            "grid_area": null,
            "grid_auto_columns": null,
            "grid_auto_flow": null,
            "grid_auto_rows": null,
            "grid_column": null,
            "grid_gap": null,
            "grid_row": null,
            "grid_template_areas": null,
            "grid_template_columns": null,
            "grid_template_rows": null,
            "height": null,
            "justify_content": null,
            "justify_items": null,
            "left": null,
            "margin": null,
            "max_height": null,
            "max_width": null,
            "min_height": null,
            "min_width": null,
            "object_fit": null,
            "object_position": null,
            "order": null,
            "overflow": null,
            "overflow_x": null,
            "overflow_y": null,
            "padding": null,
            "right": null,
            "top": null,
            "visibility": null,
            "width": null
          }
        },
        "7d0c11bde9d541168d0eacef67b3d78a": {
          "model_module": "@jupyter-widgets/controls",
          "model_name": "ProgressStyleModel",
          "model_module_version": "1.5.0",
          "state": {
            "_model_module": "@jupyter-widgets/controls",
            "_model_module_version": "1.5.0",
            "_model_name": "ProgressStyleModel",
            "_view_count": null,
            "_view_module": "@jupyter-widgets/base",
            "_view_module_version": "1.2.0",
            "_view_name": "StyleView",
            "bar_color": null,
            "description_width": ""
          }
        },
        "0d820b03fc584136b214077c78dc63a3": {
          "model_module": "@jupyter-widgets/base",
          "model_name": "LayoutModel",
          "model_module_version": "1.2.0",
          "state": {
            "_model_module": "@jupyter-widgets/base",
            "_model_module_version": "1.2.0",
            "_model_name": "LayoutModel",
            "_view_count": null,
            "_view_module": "@jupyter-widgets/base",
            "_view_module_version": "1.2.0",
            "_view_name": "LayoutView",
            "align_content": null,
            "align_items": null,
            "align_self": null,
            "border": null,
            "bottom": null,
            "display": null,
            "flex": null,
            "flex_flow": null,
            "grid_area": null,
            "grid_auto_columns": null,
            "grid_auto_flow": null,
            "grid_auto_rows": null,
            "grid_column": null,
            "grid_gap": null,
            "grid_row": null,
            "grid_template_areas": null,
            "grid_template_columns": null,
            "grid_template_rows": null,
            "height": null,
            "justify_content": null,
            "justify_items": null,
            "left": null,
            "margin": null,
            "max_height": null,
            "max_width": null,
            "min_height": null,
            "min_width": null,
            "object_fit": null,
            "object_position": null,
            "order": null,
            "overflow": null,
            "overflow_x": null,
            "overflow_y": null,
            "padding": null,
            "right": null,
            "top": null,
            "visibility": null,
            "width": null
          }
        },
        "bdaa52115ec34d51a151f40334f24db5": {
          "model_module": "@jupyter-widgets/controls",
          "model_name": "DescriptionStyleModel",
          "model_module_version": "1.5.0",
          "state": {
            "_model_module": "@jupyter-widgets/controls",
            "_model_module_version": "1.5.0",
            "_model_name": "DescriptionStyleModel",
            "_view_count": null,
            "_view_module": "@jupyter-widgets/base",
            "_view_module_version": "1.2.0",
            "_view_name": "StyleView",
            "description_width": ""
          }
        }
      }
    }
  },
  "cells": [
    {
      "cell_type": "markdown",
      "source": [
        "# Preliminary Steps for T5 with Separate Attention Layer"
      ],
      "metadata": {
        "id": "RHZ4bFZzxZ3c"
      }
    },
    {
      "cell_type": "markdown",
      "source": [
        "## Preprocessing\n",
        "\n",
        "- **Text Cleaning**: Clean the text data, removing any irrelevant characters, correcting formatting issues, and standardizing text for better model performance.\n",
        "\n",
        "- **Tokenization**: Convert text data into a format suitable for the T5 model, typically using a tokenizer specific to T5.\n",
        "\n",
        "- **Data Splitting**: Split the dataset into training, validation, and testing sets."
      ],
      "metadata": {
        "id": "2YrA0ngMt8uA"
      }
    },
    {
      "cell_type": "code",
      "source": [
        "!pip install transformers"
      ],
      "metadata": {
        "id": "4vKcnDresz_1",
        "colab": {
          "base_uri": "https://localhost:8080/"
        },
        "outputId": "dd616b9d-4cd9-470e-e8a6-20a5a2d9e00b"
      },
      "execution_count": null,
      "outputs": [
        {
          "output_type": "stream",
          "name": "stdout",
          "text": [
            "Requirement already satisfied: transformers in /usr/local/lib/python3.10/dist-packages (4.40.1)\n",
            "Requirement already satisfied: filelock in /usr/local/lib/python3.10/dist-packages (from transformers) (3.13.4)\n",
            "Requirement already satisfied: huggingface-hub<1.0,>=0.19.3 in /usr/local/lib/python3.10/dist-packages (from transformers) (0.20.3)\n",
            "Requirement already satisfied: numpy>=1.17 in /usr/local/lib/python3.10/dist-packages (from transformers) (1.25.2)\n",
            "Requirement already satisfied: packaging>=20.0 in /usr/local/lib/python3.10/dist-packages (from transformers) (24.0)\n",
            "Requirement already satisfied: pyyaml>=5.1 in /usr/local/lib/python3.10/dist-packages (from transformers) (6.0.1)\n",
            "Requirement already satisfied: regex!=2019.12.17 in /usr/local/lib/python3.10/dist-packages (from transformers) (2023.12.25)\n",
            "Requirement already satisfied: requests in /usr/local/lib/python3.10/dist-packages (from transformers) (2.31.0)\n",
            "Requirement already satisfied: tokenizers<0.20,>=0.19 in /usr/local/lib/python3.10/dist-packages (from transformers) (0.19.1)\n",
            "Requirement already satisfied: safetensors>=0.4.1 in /usr/local/lib/python3.10/dist-packages (from transformers) (0.4.3)\n",
            "Requirement already satisfied: tqdm>=4.27 in /usr/local/lib/python3.10/dist-packages (from transformers) (4.66.2)\n",
            "Requirement already satisfied: fsspec>=2023.5.0 in /usr/local/lib/python3.10/dist-packages (from huggingface-hub<1.0,>=0.19.3->transformers) (2023.6.0)\n",
            "Requirement already satisfied: typing-extensions>=3.7.4.3 in /usr/local/lib/python3.10/dist-packages (from huggingface-hub<1.0,>=0.19.3->transformers) (4.11.0)\n",
            "Requirement already satisfied: charset-normalizer<4,>=2 in /usr/local/lib/python3.10/dist-packages (from requests->transformers) (3.3.2)\n",
            "Requirement already satisfied: idna<4,>=2.5 in /usr/local/lib/python3.10/dist-packages (from requests->transformers) (3.7)\n",
            "Requirement already satisfied: urllib3<3,>=1.21.1 in /usr/local/lib/python3.10/dist-packages (from requests->transformers) (2.0.7)\n",
            "Requirement already satisfied: certifi>=2017.4.17 in /usr/local/lib/python3.10/dist-packages (from requests->transformers) (2024.2.2)\n"
          ]
        }
      ]
    },
    {
      "cell_type": "code",
      "execution_count": null,
      "metadata": {
        "id": "-bgg_Ka7vhc2",
        "outputId": "9d7bd6e2-bf0c-4651-cd16-8601632d87d5",
        "colab": {
          "base_uri": "https://localhost:8080/",
          "referenced_widgets": [
            "c6499f94a06b48e689a097556b619819",
            "835e22ffe69948b7932ccb2cdd0e67aa",
            "0b2890db8bac412fb716b06566594e07",
            "9862a4c7ca3a4e0db5540e5236e50644",
            "ce84d430ff3f4972a45a1f36dcb76804",
            "4c6a14be23744348aad2d2a779b9bae7",
            "b1a56260691d470ca1d9167d798c0d3e",
            "3a4b5a2e28794d0ebc949b62b93b562f",
            "2f24c4e40de643798abde81a8e5919f0",
            "b19b8f828b5a485da7f6a89be444aaa4",
            "34f70403e5974c21bfe3251916a70acb",
            "84bc564a6dd942f7a9d8319c376574dc",
            "ed8ae68d983743448af728a310f37cd5",
            "fab194fddad94f03bdf122d12aabaec5",
            "0443d44fb27f40adbc5104adcbb1cd48",
            "5bd7303e700c4c318e4c8d3d30b1bde1",
            "54262b68215b49469e8ee95c6b27d671",
            "e6aa0170f8bc4b678ef7ecbce4f87273",
            "e3cd4a9196b844009c262f5ccaf8e222",
            "c26bffaf0f4f409183e4ffc4b0fac091",
            "7f6fa9ca849e47bb8e81ecb3ead5ff5c",
            "5972cb7d2d5e48c183d1d81e2d23afc7",
            "b18f221e23aa483e8fb860fd4ecf4bda",
            "d2a92653f9f747acbb760feb19b24015",
            "fc5b2851d79b47738c60d7cc456d8a14",
            "ba0a3c4d85094b30a665649afe58e37c",
            "060391879a954a36851ac2c1a9cb9fb2",
            "6a0e721c130f469f9bada1773ce37828",
            "37513d1de08046a5a5978a1ea8ff9160",
            "e6946bffe39848649a27c672b06eaaad",
            "7d0c11bde9d541168d0eacef67b3d78a",
            "0d820b03fc584136b214077c78dc63a3",
            "bdaa52115ec34d51a151f40334f24db5"
          ],
          "height": 341
        }
      },
      "outputs": [
        {
          "output_type": "stream",
          "name": "stderr",
          "text": [
            "/usr/local/lib/python3.10/dist-packages/huggingface_hub/utils/_token.py:88: UserWarning: \n",
            "The secret `HF_TOKEN` does not exist in your Colab secrets.\n",
            "To authenticate with the Hugging Face Hub, create a token in your settings tab (https://huggingface.co/settings/tokens), set it as secret in your Google Colab and restart your session.\n",
            "You will be able to reuse this secret in all of your notebooks.\n",
            "Please note that authentication is recommended but still optional to access public models or datasets.\n",
            "  warnings.warn(\n"
          ]
        },
        {
          "output_type": "display_data",
          "data": {
            "text/plain": [
              "tokenizer_config.json:   0%|          | 0.00/2.32k [00:00<?, ?B/s]"
            ],
            "application/vnd.jupyter.widget-view+json": {
              "version_major": 2,
              "version_minor": 0,
              "model_id": "c6499f94a06b48e689a097556b619819"
            }
          },
          "metadata": {}
        },
        {
          "output_type": "display_data",
          "data": {
            "text/plain": [
              "spiece.model:   0%|          | 0.00/792k [00:00<?, ?B/s]"
            ],
            "application/vnd.jupyter.widget-view+json": {
              "version_major": 2,
              "version_minor": 0,
              "model_id": "84bc564a6dd942f7a9d8319c376574dc"
            }
          },
          "metadata": {}
        },
        {
          "output_type": "display_data",
          "data": {
            "text/plain": [
              "tokenizer.json:   0%|          | 0.00/1.39M [00:00<?, ?B/s]"
            ],
            "application/vnd.jupyter.widget-view+json": {
              "version_major": 2,
              "version_minor": 0,
              "model_id": "b18f221e23aa483e8fb860fd4ecf4bda"
            }
          },
          "metadata": {}
        },
        {
          "output_type": "stream",
          "name": "stderr",
          "text": [
            "You are using the default legacy behaviour of the <class 'transformers.models.t5.tokenization_t5.T5Tokenizer'>. This is expected, and simply means that the `legacy` (previous) behavior will be used so nothing changes for you. If you want to use the new behaviour, set `legacy=False`. This should only be set if you understand what it means, and thoroughly read the reason why this was added as explained in https://github.com/huggingface/transformers/pull/24565\n",
            "Special tokens have been added in the vocabulary, make sure the associated word embeddings are fine-tuned or trained.\n"
          ]
        },
        {
          "output_type": "stream",
          "name": "stdout",
          "text": [
            "Training Set: 85204 samples\n",
            "Validation Set: 10651 samples\n",
            "Test Set: 10651 samples\n",
            "Dataset saved as cleaned_NYT_Dataset.csv\n"
          ]
        }
      ],
      "source": [
        "import pandas as pd\n",
        "from transformers import T5Tokenizer\n",
        "from sklearn.model_selection import train_test_split\n",
        "\n",
        "# Load the dataset\n",
        "data = pd.read_csv('NYT_Dataset.csv')\n",
        "\n",
        "# Data Cleaning Function\n",
        "def clean_text(text):\n",
        "    if pd.isna(text):\n",
        "        return \"\"  # Return an empty string if the text is NaN\n",
        "    # Strip leading/trailing whitespace, replace newline characters, and other potential cleaning steps\n",
        "    return text.strip().replace(\"\\n\", \" \")\n",
        "\n",
        "data['abstract'] = data['abstract'].apply(clean_text)\n",
        "data['title'] = data['title'].apply(clean_text)\n",
        "\n",
        "# Initialize T5 Tokenizer\n",
        "tokenizer = T5Tokenizer.from_pretrained('t5-small')\n",
        "\n",
        "# Function to tokenize text\n",
        "def tokenize_texts(text):\n",
        "    # Encode the texts using the T5 tokenizer. You might want to adjust the max_length depending on your specific needs\n",
        "    return tokenizer.encode(text, max_length=512, truncation=True, return_tensors=\"pt\")\n",
        "\n",
        "# Tokenize abstracts (inputs) and titles (targets)\n",
        "data['tokenized_abstracts'] = data['abstract'].apply(tokenize_texts)\n",
        "data['tokenized_titles'] = data['title'].apply(tokenize_texts)\n",
        "\n",
        "# Split the data into training, validation, and test sets\n",
        "train, dev = train_test_split(data, test_size=0.2, random_state=42)\n",
        "validation, test = train_test_split(dev, test_size=0.5, random_state=42)\n",
        "\n",
        "# Display the structure of the split data\n",
        "print(f\"Training Set: {len(train)} samples\")\n",
        "print(f\"Validation Set: {len(validation)} samples\")\n",
        "print(f\"Test Set: {len(test)} samples\")\n",
        "\n",
        "# Save the cleaned dataset\n",
        "columns_to_save = ['ID', 'title', 'topic', 'abstract', 'Date', 'keywords']\n",
        "data[columns_to_save].to_csv('cleaned_NYT_Dataset.csv' , index=False)\n",
        "print(f\"Dataset saved as {'cleaned_NYT_Dataset.csv'}\")\n",
        "\n"
      ]
    },
    {
      "cell_type": "markdown",
      "source": [
        "## Word2Vec Embedding for Keywords"
      ],
      "metadata": {
        "id": "NCR1m0n740SD"
      }
    },
    {
      "cell_type": "code",
      "source": [
        "import gensim.downloader as api\n",
        "import numpy as np\n",
        "\n",
        "# Load pre-trained Word2Vec embeddings\n",
        "word_vectors = api.load('word2vec-google-news-300')  # 300-dimensional vectors\n",
        "\n",
        "# Function to get embeddings for a keyword\n",
        "def get_embedding(keyword):\n",
        "    try:\n",
        "        return word_vectors[keyword]\n",
        "    except KeyError:\n",
        "        return np.zeros(300)  # Return a zero vector if keyword not in vocabulary\n"
      ],
      "metadata": {
        "id": "VbctzK7j42l7",
        "colab": {
          "base_uri": "https://localhost:8080/"
        },
        "outputId": "3e6264ca-6868-4086-c827-0c50591eba2a"
      },
      "execution_count": null,
      "outputs": [
        {
          "output_type": "stream",
          "name": "stdout",
          "text": [
            "[==================================================] 100.0% 1662.8/1662.8MB downloaded\n"
          ]
        }
      ]
    },
    {
      "cell_type": "code",
      "source": [
        "def get_keyword_ids(keywords, max_keywords, keyword_to_id):\n",
        "    keyword_ids = [keyword_to_id.get(keyword, 0) for keyword in keywords.split(',')[:max_keywords]]\n",
        "    if len(keyword_ids) < max_keywords:\n",
        "        keyword_ids += [0] * (max_keywords - len(keyword_ids))  # Padding with 0 (assuming 0 is the index for unknown keywords)\n",
        "    return keyword_ids"
      ],
      "metadata": {
        "id": "THdgISz8DUvI"
      },
      "execution_count": null,
      "outputs": []
    },
    {
      "cell_type": "code",
      "source": [
        "import pandas as pd\n",
        "\n",
        "unique_keywords = set()\n",
        "for index, row in data.iterrows():\n",
        "    if pd.notna(row['keywords']):  # Check if the 'keywords' value is not NaN\n",
        "        unique_keywords.update(row['keywords'].split(','))\n",
        "\n",
        "keyword_to_id = {keyword: i for i, keyword in enumerate(unique_keywords)}"
      ],
      "metadata": {
        "id": "uJb8BshkGTfR"
      },
      "execution_count": null,
      "outputs": []
    },
    {
      "cell_type": "markdown",
      "source": [
        "## Initialization of T5 Model, Tokenizer, and Device Setup\n",
        "\n",
        "- Category and Keyword Embedding\n",
        "- Integration in Data Preparation\n",
        "\n"
      ],
      "metadata": {
        "id": "jbHi5RYVoDrx"
      }
    },
    {
      "cell_type": "code",
      "source": [
        "import pandas as pd\n",
        "\n",
        "# Check for unique categories\n",
        "unique_categories = data['topic'].unique()  # Replace 'category_column_name' with the actual column name\n",
        "num_categories = len(unique_categories)\n",
        "print(f\"Number of unique categories: {num_categories}\")\n",
        "\n",
        "# Check for unique keywords\n",
        "# Assuming keywords are stored in a single column separated by commas\n",
        "all_keywords = set()\n",
        "data['keywords'].dropna().str.split(',').apply(all_keywords.update)  # Replace 'keywords_column_name' with the actual column name\n",
        "num_keywords = len(all_keywords)\n",
        "print(f\"Number of unique keywords: {num_keywords}\")\n"
      ],
      "metadata": {
        "colab": {
          "base_uri": "https://localhost:8080/"
        },
        "id": "HXUQ1Vz132OS",
        "outputId": "177b1c40-6ecb-42da-d884-abb2f51b8e3c"
      },
      "execution_count": null,
      "outputs": [
        {
          "output_type": "stream",
          "name": "stdout",
          "text": [
            "Number of unique categories: 3\n",
            "Number of unique keywords: 48268\n"
          ]
        }
      ]
    },
    {
      "cell_type": "code",
      "source": [
        "import torch\n",
        "from torch import nn\n",
        "from torch.utils.data import Dataset, DataLoader\n",
        "from transformers import T5ForConditionalGeneration, T5Tokenizer\n",
        "from torch.nn.utils.rnn import pad_sequence\n",
        "\n",
        "# Load the tokenizer and the T5 model\n",
        "tokenizer = T5Tokenizer.from_pretrained('t5-small')\n",
        "t5_model = T5ForConditionalGeneration.from_pretrained('t5-small')\n",
        "device = torch.device(\"cuda\" if torch.cuda.is_available() else \"cpu\")\n",
        "t5_model.to(device)\n",
        "\n",
        "\n",
        "class T5CustomDataset(Dataset):\n",
        "    def __init__(self, data, tokenizer, keyword_vectors, max_len=512, max_keywords=10):\n",
        "        self.tokenizer = tokenizer\n",
        "        self.data = data\n",
        "        self.keyword_vectors = keyword_vectors\n",
        "        self.max_len = max_len\n",
        "        self.max_keywords = max_keywords\n",
        "\n",
        "    def __len__(self):\n",
        "        return len(self.data)\n",
        "\n",
        "    def __getitem__(self, idx):\n",
        "        item = self.data.iloc[idx]\n",
        "        input_text = f\"summarize: {item['abstract']}\"\n",
        "        target_text = item['title']\n",
        "\n",
        "        encoding = self.tokenizer(input_text, max_length=self.max_len, truncation=True, padding=\"max_length\", return_tensors=\"pt\")\n",
        "        target_encoding = self.tokenizer(target_text, max_length=self.max_len, truncation=True, padding=\"max_length\", return_tensors=\"pt\")\n",
        "\n",
        "        input_ids = encoding['input_ids'].squeeze(0)\n",
        "        attention_mask = encoding['attention_mask'].squeeze(0)\n",
        "        labels = target_encoding['input_ids'].squeeze(0)\n",
        "\n",
        "        # Handle keywords\n",
        "        keywords = item['keywords'].split(',')[:self.max_keywords]\n",
        "        keyword_embeddings = torch.stack([self.keyword_vectors.get(kw, torch.zeros(self.keyword_vectors['example_keyword'].shape)) for kw in keywords])\n",
        "        if len(keyword_embeddings) < self.max_keywords:\n",
        "            padding = torch.zeros(self.max_keywords - len(keyword_embeddings), keyword_embeddings.shape[1])\n",
        "            keyword_embeddings = torch.cat([keyword_embeddings, padding], dim=0)\n",
        "\n",
        "        return {\n",
        "            'input_ids': input_ids,\n",
        "            'labels': labels,\n",
        "            'keyword_embeddings': keyword_embeddings,\n",
        "            'attention_mask': input_ids.ne(self.tokenizer.pad_token_id).int()\n",
        "        }\n",
        "\n",
        "def collate_fn(batch):\n",
        "    input_ids = torch.stack([item['input_ids'] for item in batch])\n",
        "    labels = torch.stack([item['labels'] for item in batch])\n",
        "    attention_masks = torch.stack([item['attention_mask'] for item in batch])\n",
        "    keyword_embeddings = torch.stack([item['keyword_embeddings'] for item in batch])\n",
        "\n",
        "    return {\n",
        "        'input_ids': input_ids,\n",
        "        'labels': labels,\n",
        "        'attention_mask': attention_masks,\n",
        "        'keyword_embeddings': keyword_embeddings\n",
        "    }\n",
        "\n",
        "\n",
        "batch_size = 16\n",
        "\n",
        "# Assuming word_vectors is already loaded and keyword_to_id is properly initialized\n",
        "keyword_vectors = torch.stack([torch.from_numpy(word_vectors[kw]) if kw in word_vectors else torch.zeros(300) for kw in keyword_to_id.keys()])\n",
        "\n",
        "train_loader = DataLoader(T5CustomDataset(train, tokenizer, keyword_vectors), batch_size=16, shuffle=True, collate_fn=collate_fn)\n",
        "validation_loader = DataLoader(T5CustomDataset(validation, tokenizer, keyword_vectors), batch_size=16, shuffle=False, collate_fn=collate_fn)\n",
        "test_loader = DataLoader(T5CustomDataset(test, tokenizer, keyword_vectors), batch_size=16, shuffle=False, collate_fn=collate_fn)\n",
        "\n",
        "class ModifiedT5Model(nn.Module):\n",
        "    def __init__(self, t5_model, emb_dim):\n",
        "        super(ModifiedT5Model, self).__init__()\n",
        "        self.t5_model = t5_model\n",
        "        self.special_attention = nn.Linear(emb_dim * 2, emb_dim)  # Double the emb_dim because of concatenation\n",
        "\n",
        "    def forward(self, input_ids, attention_mask, labels, keyword_embeddings):\n",
        "        input_embeddings = self.t5_model.get_input_embeddings()(input_ids)\n",
        "\n",
        "        # Average the keyword embeddings and concatenate\n",
        "        keyword_embeddings_mean = keyword_embeddings.mean(dim=1)\n",
        "        expanded_keyword_embeddings = keyword_embeddings_mean.unsqueeze(1).expand(-1, input_ids.size(1), -1)\n",
        "        combined_embeddings = torch.cat((input_embeddings, expanded_keyword_embeddings), dim=-1)\n",
        "\n",
        "        enhanced_embeddings = self.special_attention(combined_embeddings)\n",
        "\n",
        "        outputs = self.t5_model(inputs_embeds=enhanced_embeddings, attention_mask=attention_mask, labels=labels)\n",
        "\n",
        "        # Check if 'loss' is in the outputs, and if so, return it properly\n",
        "        if 'loss' in outputs:\n",
        "            return outputs.loss, outputs.logits\n",
        "        else:\n",
        "            return None, outputs.logits\n",
        "\n",
        "# Assuming num_keywords and emb_dim are defined based on your dataset and embedding size\n",
        "num_keywords = 48268\n",
        "emb_dim = 512  # Embedding dimension to match the T5 model's hidden size\n",
        "modified_t5_model = ModifiedT5Model(t5_model, emb_dim).to(device)"
      ],
      "metadata": {
        "colab": {
          "base_uri": "https://localhost:8080/"
        },
        "id": "rEDD0DExoKjI",
        "outputId": "b9e1ac21-da43-4f07-ee98-e4590d3eb923"
      },
      "execution_count": null,
      "outputs": [
        {
          "output_type": "stream",
          "name": "stderr",
          "text": [
            "Special tokens have been added in the vocabulary, make sure the associated word embeddings are fine-tuned or trained.\n"
          ]
        }
      ]
    },
    {
      "cell_type": "markdown",
      "source": [
        "# Training & Evaluation\n",
        "\n",
        "- **Embedding Handling**: The training loop now retrieves category and keyword embeddings and combines them. This combined embedding is then used to enhance the text input embeddings.\n",
        "\n",
        "- **Model Input Adjustments**: Depending on how your model is designed to accept input embeddings, you might need to modify the model.forward method or how the embeddings are passed to the model. This example simply adds the extra embeddings to the text embeddings for demonstration. In practice, you might want to integrate them more seamlessly, perhaps through a custom layer or attention mechanism as discussed previously.\n",
        "\n",
        "- **Checkpointing and Monitoring**: The training progress and checkpointing remain the same, ensuring you can monitor the training process and recover or start from checkpoints if necessary."
      ],
      "metadata": {
        "id": "1H4PSb4vy6G8"
      }
    },
    {
      "cell_type": "markdown",
      "source": [
        "## Metric Evaluation"
      ],
      "metadata": {
        "id": "k3hyRI5irqAk"
      }
    },
    {
      "cell_type": "code",
      "source": [
        "!pip install tqdm"
      ],
      "metadata": {
        "id": "X791P7WK67az",
        "colab": {
          "base_uri": "https://localhost:8080/"
        },
        "outputId": "eacf4b6a-3ee8-4330-efaa-287a7f1a1acf"
      },
      "execution_count": null,
      "outputs": [
        {
          "output_type": "stream",
          "name": "stdout",
          "text": [
            "Requirement already satisfied: tqdm in /usr/local/lib/python3.10/dist-packages (4.66.2)\n"
          ]
        }
      ]
    },
    {
      "cell_type": "code",
      "source": [
        "!pip install nltk rouge"
      ],
      "metadata": {
        "id": "He34S40i-xz_",
        "colab": {
          "base_uri": "https://localhost:8080/"
        },
        "outputId": "e431655d-4cc2-408d-b516-289e6207f718"
      },
      "execution_count": null,
      "outputs": [
        {
          "output_type": "stream",
          "name": "stdout",
          "text": [
            "Requirement already satisfied: nltk in /usr/local/lib/python3.10/dist-packages (3.8.1)\n",
            "Collecting rouge\n",
            "  Downloading rouge-1.0.1-py3-none-any.whl (13 kB)\n",
            "Requirement already satisfied: click in /usr/local/lib/python3.10/dist-packages (from nltk) (8.1.7)\n",
            "Requirement already satisfied: joblib in /usr/local/lib/python3.10/dist-packages (from nltk) (1.4.0)\n",
            "Requirement already satisfied: regex>=2021.8.3 in /usr/local/lib/python3.10/dist-packages (from nltk) (2023.12.25)\n",
            "Requirement already satisfied: tqdm in /usr/local/lib/python3.10/dist-packages (from nltk) (4.66.2)\n",
            "Requirement already satisfied: six in /usr/local/lib/python3.10/dist-packages (from rouge) (1.16.0)\n",
            "Installing collected packages: rouge\n",
            "Successfully installed rouge-1.0.1\n"
          ]
        }
      ]
    },
    {
      "cell_type": "code",
      "source": [
        "import nltk\n",
        "from rouge import Rouge\n",
        "from nltk.translate.bleu_score import corpus_bleu\n",
        "\n",
        "# Function to convert ids to text\n",
        "def ids_to_text(ids, tokenizer):\n",
        "    return tokenizer.decode(ids, skip_special_tokens=True)\n",
        "\n",
        "# Function to calculate BLEU and ROUGE scores\n",
        "def calculate_metrics(references, hypotheses):\n",
        "    # BLEU\n",
        "    bleu_score = corpus_bleu([[ref.split()] for ref in references], [hyp.split() for hyp in hypotheses])\n",
        "\n",
        "    # ROUGE\n",
        "    rouge = Rouge()\n",
        "    rouge_score = rouge.get_scores(hypotheses, references, avg=True)\n",
        "\n",
        "    return bleu_score, rouge_score"
      ],
      "metadata": {
        "id": "uDDjkOib-2B4"
      },
      "execution_count": null,
      "outputs": []
    },
    {
      "cell_type": "markdown",
      "source": [
        "## Training Loop"
      ],
      "metadata": {
        "id": "APzegyqJrm_N"
      }
    },
    {
      "cell_type": "code",
      "source": [
        "from transformers import AdamW, get_linear_schedule_with_warmup\n",
        "from tqdm import tqdm\n",
        "import torch\n",
        "\n",
        "# Assume 'model' is an instance of 'ModifiedT5Model' which has been modified to take 'keyword_ids'\n",
        "model = modified_t5_model  # Ensure this is your modified model instance that takes keyword embeddings\n",
        "optimizer = AdamW(model.parameters(), lr=5e-5, weight_decay=0.01)\n",
        "\n",
        "# Training parameters\n",
        "epochs = 2\n",
        "batch_size = 16\n",
        "best_val_loss = float('inf')\n",
        "patience_counter = 0\n",
        "patience = 2\n",
        "\n",
        "scheduler = get_linear_schedule_with_warmup(optimizer, num_warmup_steps=0, num_training_steps=len(train_loader) * epochs)\n",
        "\n",
        "# Training loop\n",
        "model.train()\n",
        "for epoch in range(epochs):\n",
        "    total_loss = 0\n",
        "    progress_bar = tqdm(train_loader, desc=f\"Epoch {epoch + 1}\")\n",
        "    for batch in train_loader:\n",
        "        optimizer.zero_grad()\n",
        "\n",
        "        input_ids = batch['input_ids'].to(device)\n",
        "        labels = batch['labels'].to(device)\n",
        "        attention_mask = batch['attention_mask'].to(device)\n",
        "        keyword_embeddings = batch['keyword_embeddings'].to(device)\n",
        "\n",
        "        loss, logits = modified_t5_model(input_ids, attention_mask, labels, keyword_embeddings)\n",
        "\n",
        "        loss.backward()\n",
        "        optimizer.step()\n",
        "        scheduler.step()\n",
        "\n",
        "        total_loss += loss.item()\n",
        "        progress_bar.set_postfix(loss=f\"{total_loss / (progress_bar.n + 1):.2f}\")\n",
        "\n",
        "    # Save a checkpoint at the end of each epoch\n",
        "    torch.save({\n",
        "        'epoch': epoch,\n",
        "        'model_state_dict': model.state_dict(),\n",
        "        'optimizer_state_dict': optimizer.state_dict(),\n",
        "    }, f'checkpoint_epoch_{epoch}.pth')\n",
        "\n",
        "print(f\"Training completed with total loss: {total_loss}\")"
      ],
      "metadata": {
        "id": "m1qPs4yvy8n5"
      },
      "execution_count": null,
      "outputs": []
    },
    {
      "cell_type": "code",
      "source": [
        "import time\n",
        "\n",
        "def validate_and_calculate_scores(model, val_loader, tokenizer):\n",
        "    model.eval()\n",
        "    total_loss = 0\n",
        "    references = []\n",
        "    hypotheses = []\n",
        "    start_time = time.time()  # Start timing\n",
        "\n",
        "    with torch.no_grad():\n",
        "        for batch in val_loader:\n",
        "            input_ids = batch['input_ids'].to(device)\n",
        "            attention_mask = batch['attention_mask'].to(device)\n",
        "            labels = batch['target_ids'].to(device)\n",
        "\n",
        "            # Generate outputs\n",
        "            outputs = model.generate(input_ids=input_ids, attention_mask=attention_mask, max_length=50, no_repeat_ngram_size=2, early_stopping=True)\n",
        "            loss = model(input_ids=input_ids, attention_mask=attention_mask, labels=labels).loss\n",
        "            total_loss += loss.item()\n",
        "\n",
        "            for label, output in zip(labels, outputs):\n",
        "                decoded_label = tokenizer.decode(label, skip_special_tokens=True).strip()\n",
        "                decoded_output = tokenizer.decode(output, skip_special_tokens=True).strip()\n",
        "                if decoded_label:\n",
        "                    references.append(decoded_label)\n",
        "                    hypotheses.append(decoded_output)\n",
        "\n",
        "    evaluation_time = time.time() - start_time  # End timing\n",
        "    print(f\"Evaluation took {evaluation_time:.2f} seconds\")\n",
        "\n",
        "    if not references or not hypotheses:\n",
        "        raise ValueError(\"No valid data found for evaluation. Please check your dataset.\")\n",
        "\n",
        "    try:\n",
        "        bleu, rouge = calculate_metrics(references, hypotheses)\n",
        "    except ValueError as e:\n",
        "        print(f\"Error calculating metrics: {e}\")\n",
        "        bleu, rouge = 0, 0\n",
        "\n",
        "    return total_loss / len(val_loader), bleu, rouge, evaluation_time\n",
        "\n",
        "# Run evaluation independently\n",
        "val_loss, bleu_score, rouge_scores, eval_time = validate_and_calculate_scores(model, validation_loader, tokenizer)\n",
        "print(f\"Validation Loss: {val_loss:.2f}, BLEU Score: {bleu_score:.2f}, ROUGE Scores: {rouge_scores}, Evaluation Time: {eval_time:.2f} seconds\")"
      ],
      "metadata": {
        "id": "F9wBXACBn_77"
      },
      "execution_count": null,
      "outputs": []
    },
    {
      "cell_type": "markdown",
      "source": [],
      "metadata": {
        "id": "LkTBBqZUwUNK"
      }
    },
    {
      "cell_type": "code",
      "source": [
        "def display_input_output_pairs(model, data_loader, tokenizer, attribute_embeddings, category_map, keyword_map, num_pairs=5):\n",
        "    model.eval()\n",
        "    batch = next(iter(data_loader))  # Get one batch from the DataLoader\n",
        "\n",
        "    # Prepare category and keyword embeddings\n",
        "    category_ids = batch['category_ids'].to(device)\n",
        "    keyword_ids = batch['keyword_ids'].to(device)\n",
        "    category_emb, keyword_emb = attribute_embeddings(category_ids, keyword_ids)\n",
        "    extra_emb = category_emb + keyword_emb\n",
        "\n",
        "    # Prepare input embeddings\n",
        "    input_ids = batch['input_ids'].to(device)\n",
        "    attention_mask = batch['attention_mask'].to(device)\n",
        "    labels = batch['labels'].to(device)\n",
        "    text_embeddings = model.get_input_embeddings()(input_ids)\n",
        "\n",
        "    # Combine text and extra embeddings and use for generating outputs\n",
        "    enhanced_text_embeddings = text_embeddings + extra_emb.unsqueeze(1).expand(-1, text_embeddings.size(1), -1)\n",
        "    outputs = model.generate(inputs_embeds=enhanced_text_embeddings, attention_mask=attention_mask, max_length=50, no_repeat_ngram_size=2, early_stopping=True)\n",
        "\n",
        "    print(\"Displaying Input-Output Pairs:\\n\")\n",
        "    for i in range(min(num_pairs, len(batch['input_ids']))):\n",
        "        input_text = tokenizer.decode(input_ids[i], skip_special_tokens=True)\n",
        "        generated_title = tokenizer.decode(outputs[i], skip_special_tokens=True)\n",
        "        reference_title = tokenizer.decode(labels[i], skip_special_tokens=True)\n",
        "\n",
        "        # Decode category and keywords for display\n",
        "        category_name = category_map[category_ids[i].item()]\n",
        "        keywords_names = [keyword_map[kw_id] for kw_id in keyword_ids[i] if kw_id in keyword_map]\n",
        "\n",
        "        print(f\"Input Abstract {i+1}: {input_text}\")\n",
        "        print(f\"Generated Title {i+1}: {generated_title}\")\n",
        "        print(f\"Reference Title {i+1}: {reference_title}\")\n",
        "        print(f\"Category: {category_name}\")\n",
        "        print(f\"Keywords: {', '.join(keywords_names)}\\n\")\n",
        "\n",
        "# Assuming model, validation_loader, tokenizer, attribute_embeddings, category_map, and keyword_map are already defined and set up\n",
        "display_input_output_pairs(model, validation_loader, tokenizer, attribute_embeddings, category_map, keyword_map, num_pairs=5)\n"
      ],
      "metadata": {
        "id": "Ys8wim0esrHR"
      },
      "execution_count": null,
      "outputs": []
    }
  ]
}